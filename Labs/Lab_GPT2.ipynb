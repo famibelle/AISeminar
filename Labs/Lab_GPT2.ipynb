{
 "cells": [
  {
   "cell_type": "code",
   "execution_count": 8,
   "metadata": {},
   "outputs": [],
   "source": [
    "# %pip install transformers\n",
    "# %pip install torch"
   ]
  },
  {
   "cell_type": "code",
   "execution_count": 9,
   "metadata": {},
   "outputs": [],
   "source": [
    "from transformers import AutoTokenizer, AutoModelForCausalLM\n",
    "import torch\n",
    "\n",
    "# Charger le tokenizer GPT-2\n",
    "tokenizer = AutoTokenizer.from_pretrained(\"gpt2\")\n",
    "\n",
    "# Charger le modèle GPT-2 pré-entraîné\n",
    "model = AutoModelForCausalLM.from_pretrained(\"gpt2\")\n"
   ]
  },
  {
   "cell_type": "code",
   "execution_count": 10,
   "metadata": {},
   "outputs": [],
   "source": [
    "# Texte de départ (prompt) pour générer du texte\n",
    "prompt = \"Artificial intelligence is transforming the world by\"\n"
   ]
  },
  {
   "cell_type": "code",
   "execution_count": 11,
   "metadata": {},
   "outputs": [],
   "source": [
    "# Tokeniser le prompt\n",
    "inputs = tokenizer(prompt, return_tensors=\"pt\")"
   ]
  },
  {
   "cell_type": "code",
   "execution_count": 12,
   "metadata": {},
   "outputs": [
    {
     "name": "stderr",
     "output_type": "stream",
     "text": [
      "The attention mask and the pad token id were not set. As a consequence, you may observe unexpected behavior. Please pass your input's `attention_mask` to obtain reliable results.\n",
      "Setting `pad_token_id` to `eos_token_id`:None for open-end generation.\n"
     ]
    }
   ],
   "source": [
    "# Générer du texte à partir du prompt\n",
    "output_sequences = model.generate(\n",
    "    input_ids=inputs['input_ids'],\n",
    "    max_length=128,          # Longueur maximale de la génération\n",
    "    num_return_sequences=1, # Nombre de séquences à générer\n",
    "    no_repeat_ngram_size=2, # Éviter la répétition des n-grams\n",
    "    do_sample=True,         # Utiliser l'échantillonnage pour plus de variété\n",
    "    top_k=50,               # Utiliser top-k sampling pour générer des mots parmi les k mots les plus probables\n",
    "    top_p=0.95,             # Utiliser nucleus sampling pour choisir parmi les mots ayant une probabilité cumulée >= 0.95\n",
    "    temperature=0.8         # Plus la température est élevée, plus la génération est diversifiée\n",
    ")\n",
    "\n",
    "# Décoder et afficher le texte généré\n",
    "generated_text = tokenizer.decode(output_sequences[0], skip_special_tokens=True)\n"
   ]
  },
  {
   "cell_type": "code",
   "execution_count": 13,
   "metadata": {},
   "outputs": [
    {
     "name": "stdout",
     "output_type": "stream",
     "text": [
      "Generated Text: Artificial intelligence is transforming the world by creating jobs, creating wealth, and creating prosperity.\n",
      "\n",
      "For the last 10 years, companies have been creating more jobs in the United States than any other nation on earth. As we continue to take steps to make our economy more efficient, innovative, better informed, smarter, more innovative — in many ways, to be even better than ever before — we can't afford to lose this tremendous opportunity.\n"
     ]
    }
   ],
   "source": [
    "print(\"Generated Text:\", generated_text)"
   ]
  },
  {
   "cell_type": "code",
   "execution_count": 14,
   "metadata": {},
   "outputs": [
    {
     "name": "stderr",
     "output_type": "stream",
     "text": [
      "The attention mask and the pad token id were not set. As a consequence, you may observe unexpected behavior. Please pass your input's `attention_mask` to obtain reliable results.\n",
      "Setting `pad_token_id` to `eos_token_id`:None for open-end generation.\n",
      "The attention mask and the pad token id were not set. As a consequence, you may observe unexpected behavior. Please pass your input's `attention_mask` to obtain reliable results.\n",
      "Setting `pad_token_id` to `eos_token_id`:None for open-end generation.\n",
      "The attention mask and the pad token id were not set. As a consequence, you may observe unexpected behavior. Please pass your input's `attention_mask` to obtain reliable results.\n",
      "Setting `pad_token_id` to `eos_token_id`:None for open-end generation.\n",
      "The attention mask and the pad token id were not set. As a consequence, you may observe unexpected behavior. Please pass your input's `attention_mask` to obtain reliable results.\n",
      "Setting `pad_token_id` to `eos_token_id`:None for open-end generation.\n"
     ]
    }
   ],
   "source": [
    "# Liste de prompts différents pour la génération de texte\n",
    "prompts = [\n",
    "    \"The future of technology is\",\n",
    "    \"Once upon a time in a faraway land, there was\",\n",
    "    \"The discovery of quantum mechanics has led to\",\n",
    "    \"In a world dominated by artificial intelligence, humans\"\n",
    "]\n",
    "\n",
    "generated_text = []\n",
    "\n",
    "for prompt in prompts:\n",
    "    # Tokeniser le prompt\n",
    "    inputs = tokenizer(prompt, return_tensors=\"pt\")\n",
    "    \n",
    "    # Générer le texte à partir du prompt\n",
    "    output_sequences = model.generate(\n",
    "        input_ids=inputs['input_ids'],\n",
    "        max_length=128,\n",
    "        num_return_sequences=1,\n",
    "        no_repeat_ngram_size=2,\n",
    "        do_sample=True,\n",
    "        top_k=50,\n",
    "        top_p=0.95,\n",
    "        temperature=0.8\n",
    "    )\n",
    "\n",
    "    # Décoder le texte généré\n",
    "    generated_text.append(tokenizer.decode(output_sequences[0], skip_special_tokens=True))"
   ]
  },
  {
   "cell_type": "code",
   "execution_count": 15,
   "metadata": {},
   "outputs": [
    {
     "name": "stdout",
     "output_type": "stream",
     "text": [
      "Generated Text: The future of technology is uncertain, but if things turn out as they appear, the world may see a renaissance of communication.\n",
      "\n",
      "Image copyright AP Image caption The world is now on the verge of a digital revolution\n",
      " - The BBC's Digital Editor Sarah Hainsford says the digital age is getting worse and better\n",
      " \"We've had a lot of talk about how digital technology could become the future for the US, and the answer is no. It's a scary thought. But digital is actually the key to a world of greater possibilities, from the Internet, to the big screens and on top of that we have this great new mobile\n",
      "\n",
      "==================================================\n",
      "Generated Text: Once upon a time in a faraway land, there was the most noble and virtuous man of all the earth. Now that he was out of the world, he could not have done without his father, who had lived so long and so carefully. He was still on the verge of death, and his sister was dying. Yet the Lord said to her: \"Your sister is in very good health, but the man you have killed has gone away. Therefore, let no one ask you to kill her now. Let none ask for your life, for she is not as old as she was. For the one who killed her would die\n",
      "\n",
      "==================================================\n",
      "Generated Text: The discovery of quantum mechanics has led to a renewed effort to understand how the universe is constructed. But new experiments have revealed that the processes involved are all involved in the development of a single physical system.\n",
      "\n",
      "The new results in Nature show that physicists can build quantum mechanical systems in a simpler form than ever before. Using the same technology, a quantum computer with an extremely precise, nonlinear structure can be built in less than four months. It has the potential to allow quantum computers to be used for many different scientific purposes. The results are important for scientists studying quantum theory, said study leader Dr. Hans-Hermann Hesse,\n",
      "\n",
      "==================================================\n",
      "Generated Text: In a world dominated by artificial intelligence, humans and machines have a chance to do some amazing things. But as technology evolves, so does our potential. In this report, we focus on the world of human-machine interaction.\n",
      "\n",
      "In our report we show you what happens when artificial human beings perform something called a \"human-human interaction.\" The most famous example of this is the automobile. We call this \"a human interaction\" because it allows us to communicate with one another without the need for human interference. This new form of interaction is called \"intrinsic human communication.\" It is often called the \"Internet of things.\"\n",
      "\n",
      "==================================================\n"
     ]
    }
   ],
   "source": [
    "for text in generated_text:\n",
    "    print(f\"Generated Text: {text}\\n\")\n",
    "    print(\"=\" * 50)\n"
   ]
  }
 ],
 "metadata": {
  "kernelspec": {
   "display_name": ".venv",
   "language": "python",
   "name": "python3"
  },
  "language_info": {
   "codemirror_mode": {
    "name": "ipython",
    "version": 3
   },
   "file_extension": ".py",
   "mimetype": "text/x-python",
   "name": "python",
   "nbconvert_exporter": "python",
   "pygments_lexer": "ipython3",
   "version": "3.11.0rc1"
  }
 },
 "nbformat": 4,
 "nbformat_minor": 2
}
