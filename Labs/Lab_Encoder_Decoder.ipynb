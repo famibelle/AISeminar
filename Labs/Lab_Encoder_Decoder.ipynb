{
 "cells": [
  {
   "cell_type": "code",
   "execution_count": 1,
   "metadata": {},
   "outputs": [],
   "source": [
    "# %pip install seaborn\n",
    "# %pip install scikit-learn"
   ]
  },
  {
   "cell_type": "markdown",
   "metadata": {},
   "source": [
    "### Étape 1 : Importer les Bibliothèques"
   ]
  },
  {
   "cell_type": "code",
   "execution_count": 2,
   "metadata": {},
   "outputs": [],
   "source": [
    "import torch\n",
    "import torch.nn as nn\n",
    "import torch.optim as optim\n",
    "import random\n",
    "import numpy as np\n"
   ]
  },
  {
   "cell_type": "markdown",
   "metadata": {},
   "source": [
    "### Étape 2 : Préparer les Données\n",
    "Nous allons utiliser un petit jeu de données français-anglais pour créer nos vocabulaires et préparer les tenseurs pour l'entraînement.\n",
    "\n",
    "2.1 Dataset de Paires de Phrases Français-Anglais"
   ]
  },
  {
   "cell_type": "code",
   "execution_count": 3,
   "metadata": {},
   "outputs": [],
   "source": [
    "# Exemple de dataset de traduction Français -> Anglais : (phrase source, phrase cible)\n",
    "train_data = [\n",
    "    (\"bonjour tout le monde\", \"hello world\"),\n",
    "    (\"j'aime programmer\", \"i love programming\"),\n",
    "    (\"comment vas-tu\", \"how are you\"),\n",
    "    (\"il fait beau aujourd'hui\", \"it's nice weather today\"),\n",
    "    (\"je suis fatigué\", \"i am tired\"),\n",
    "    (\"elle est mon amie\", \"she is my friend\"),\n",
    "    (\"il pleut beaucoup\", \"it's raining a lot\"),\n",
    "    (\"je vais bien\", \"i am fine\"),\n",
    "    (\"as-tu mangé\", \"did you eat\"),\n",
    "    (\"où est la bibliothèque\", \"where is the library\"),\n",
    "    (\"salut à tous\", \"hi everyone\"),\n",
    "    (\"La compagnie d'assurances LALUX\", \"The insurance company LALUX\")\n",
    "]\n"
   ]
  },
  {
   "cell_type": "code",
   "execution_count": 4,
   "metadata": {},
   "outputs": [],
   "source": [
    "# Construire le vocabulaire à partir des données\n",
    "def build_vocab(sentences):\n",
    "    vocab = set()\n",
    "    for sentence in sentences:\n",
    "        vocab.update(sentence.split())\n",
    "    vocab = sorted(list(vocab))\n",
    "    vocab_dict = {word: idx + 4 for idx, word in enumerate(vocab)}  # Commence à 4 pour les tokens spéciaux\n",
    "    vocab_dict[\"<unk>\"] = 0\n",
    "    vocab_dict[\"<pad>\"] = 1\n",
    "    vocab_dict[\"<bos>\"] = 2\n",
    "    vocab_dict[\"<eos>\"] = 3\n",
    "    return vocab_dict\n"
   ]
  },
  {
   "cell_type": "code",
   "execution_count": 5,
   "metadata": {},
   "outputs": [],
   "source": [
    "# Construire les vocabulaires pour source (français) et cible (anglais)\n",
    "src_sentences = [pair[0] for pair in train_data]\n",
    "tgt_sentences = [pair[1] for pair in train_data]\n",
    "\n",
    "vocab_src = build_vocab(src_sentences)\n",
    "vocab_tgt = build_vocab(tgt_sentences)\n"
   ]
  },
  {
   "cell_type": "code",
   "execution_count": 6,
   "metadata": {},
   "outputs": [
    {
     "data": {
      "text/plain": [
       "['bonjour tout le monde',\n",
       " \"j'aime programmer\",\n",
       " 'comment vas-tu',\n",
       " \"il fait beau aujourd'hui\",\n",
       " 'je suis fatigué',\n",
       " 'elle est mon amie',\n",
       " 'il pleut beaucoup',\n",
       " 'je vais bien',\n",
       " 'as-tu mangé',\n",
       " 'où est la bibliothèque',\n",
       " 'salut à tous',\n",
       " \"La compagnie d'assurances LALUX\"]"
      ]
     },
     "execution_count": 6,
     "metadata": {},
     "output_type": "execute_result"
    }
   ],
   "source": [
    "src_sentences"
   ]
  },
  {
   "cell_type": "code",
   "execution_count": 7,
   "metadata": {},
   "outputs": [
    {
     "data": {
      "text/plain": [
       "{'LALUX': 4,\n",
       " 'La': 5,\n",
       " 'amie': 6,\n",
       " 'as-tu': 7,\n",
       " \"aujourd'hui\": 8,\n",
       " 'beau': 9,\n",
       " 'beaucoup': 10,\n",
       " 'bibliothèque': 11,\n",
       " 'bien': 12,\n",
       " 'bonjour': 13,\n",
       " 'comment': 14,\n",
       " 'compagnie': 15,\n",
       " \"d'assurances\": 16,\n",
       " 'elle': 17,\n",
       " 'est': 18,\n",
       " 'fait': 19,\n",
       " 'fatigué': 20,\n",
       " 'il': 21,\n",
       " \"j'aime\": 22,\n",
       " 'je': 23,\n",
       " 'la': 24,\n",
       " 'le': 25,\n",
       " 'mangé': 26,\n",
       " 'mon': 27,\n",
       " 'monde': 28,\n",
       " 'où': 29,\n",
       " 'pleut': 30,\n",
       " 'programmer': 31,\n",
       " 'salut': 32,\n",
       " 'suis': 33,\n",
       " 'tous': 34,\n",
       " 'tout': 35,\n",
       " 'vais': 36,\n",
       " 'vas-tu': 37,\n",
       " 'à': 38,\n",
       " '<unk>': 0,\n",
       " '<pad>': 1,\n",
       " '<bos>': 2,\n",
       " '<eos>': 3}"
      ]
     },
     "execution_count": 7,
     "metadata": {},
     "output_type": "execute_result"
    }
   ],
   "source": [
    "vocab_src"
   ]
  },
  {
   "cell_type": "code",
   "execution_count": 8,
   "metadata": {},
   "outputs": [
    {
     "data": {
      "text/plain": [
       "['hello world',\n",
       " 'i love programming',\n",
       " 'how are you',\n",
       " \"it's nice weather today\",\n",
       " 'i am tired',\n",
       " 'she is my friend',\n",
       " \"it's raining a lot\",\n",
       " 'i am fine',\n",
       " 'did you eat',\n",
       " 'where is the library',\n",
       " 'hi everyone',\n",
       " 'The insurance company LALUX']"
      ]
     },
     "execution_count": 8,
     "metadata": {},
     "output_type": "execute_result"
    }
   ],
   "source": [
    "tgt_sentences"
   ]
  },
  {
   "cell_type": "code",
   "execution_count": 9,
   "metadata": {},
   "outputs": [
    {
     "data": {
      "text/plain": [
       "{'LALUX': 4,\n",
       " 'The': 5,\n",
       " 'a': 6,\n",
       " 'am': 7,\n",
       " 'are': 8,\n",
       " 'company': 9,\n",
       " 'did': 10,\n",
       " 'eat': 11,\n",
       " 'everyone': 12,\n",
       " 'fine': 13,\n",
       " 'friend': 14,\n",
       " 'hello': 15,\n",
       " 'hi': 16,\n",
       " 'how': 17,\n",
       " 'i': 18,\n",
       " 'insurance': 19,\n",
       " 'is': 20,\n",
       " \"it's\": 21,\n",
       " 'library': 22,\n",
       " 'lot': 23,\n",
       " 'love': 24,\n",
       " 'my': 25,\n",
       " 'nice': 26,\n",
       " 'programming': 27,\n",
       " 'raining': 28,\n",
       " 'she': 29,\n",
       " 'the': 30,\n",
       " 'tired': 31,\n",
       " 'today': 32,\n",
       " 'weather': 33,\n",
       " 'where': 34,\n",
       " 'world': 35,\n",
       " 'you': 36,\n",
       " '<unk>': 0,\n",
       " '<pad>': 1,\n",
       " '<bos>': 2,\n",
       " '<eos>': 3}"
      ]
     },
     "execution_count": 9,
     "metadata": {},
     "output_type": "execute_result"
    }
   ],
   "source": [
    "vocab_tgt"
   ]
  },
  {
   "cell_type": "code",
   "execution_count": 10,
   "metadata": {},
   "outputs": [],
   "source": [
    "# Convertir les phrases en tenseurs d'indices\n",
    "def sentence_to_tensor(sentence, vocab):\n",
    "    tokens = [\"<bos>\"] + sentence.split() + [\"<eos>\"]\n",
    "    return torch.tensor([vocab.get(token, vocab[\"<unk>\"]) for token in tokens], dtype=torch.long)\n"
   ]
  },
  {
   "cell_type": "code",
   "execution_count": 11,
   "metadata": {},
   "outputs": [
    {
     "name": "stdout",
     "output_type": "stream",
     "text": [
      "Tenseur Source: tensor([ 2, 13, 35, 25, 28,  3])\n",
      "Tenseur Cible: tensor([ 2, 15, 35,  3])\n"
     ]
    }
   ],
   "source": [
    "# Exemple de conversion de phrases en tenseurs\n",
    "example_src_tensor = sentence_to_tensor(\"bonjour tout le monde\", vocab_src)\n",
    "example_tgt_tensor = sentence_to_tensor(\"hello world\", vocab_tgt)\n",
    "print(\"Tenseur Source:\", example_src_tensor)\n",
    "print(\"Tenseur Cible:\", example_tgt_tensor)\n"
   ]
  },
  {
   "cell_type": "markdown",
   "metadata": {},
   "source": [
    "### Étape 3 : Définir les Modules Encoder et Decoder\n"
   ]
  },
  {
   "cell_type": "markdown",
   "metadata": {},
   "source": [
    "### Fonctionnalité Générale de l'Encoder\n",
    "L'**Encoder** dans un modèle *Seq2Seq* (sequence-to-sequence) a pour rôle de transformer une séquence de mots d'entrée en une **représentation contextuelle** compacte. Cette représentation est ensuite transmise au *Decoder*, qui utilise ces informations pour générer la séquence de sortie.\n",
    "\n",
    "En termes simples, l'**Encoder** est comme une personne qui lit un texte dans une langue (comme le français) et forme une \"idée\" de ce texte. Le *Decoder* est ensuite comme une personne qui utilise cette \"idée\" pour écrire la même idée dans une autre langue (comme l'anglais).\n",
    "\n",
    "Dans un modèle utilisant une architecture RNN (par exemple LSTM ou GRU), l'**Encoder** prend chaque mot de la séquence d'entrée, l'encode dans une représentation vectorielle (appelée **embedding**), et le passe à travers un réseau récurrent qui maintient une mémoire de tous les mots précédents.\n",
    "\n",
    "### Étapes de l'Encoder\n",
    "\n",
    "#### 1. Déclaration des Paramètres\n",
    "Dans le constructeur `__init__`, l'Encoder est initialisé avec les paramètres suivants :\n",
    "\n",
    "- `input_dim` : Taille du vocabulaire d'entrée (nombre de mots uniques possibles).\n",
    "- `emb_dim` : Dimension des **embeddings**, qui sont des représentations vectorielles des mots. Un mot est représenté par un vecteur de taille `emb_dim`.\n",
    "- `hid_dim` : Dimension des **états cachés** (hidden states) du RNN (ici un LSTM). Cela correspond à la taille des vecteurs qui \"résument\" l'information encodée à chaque pas.\n",
    "- `n_layers` : Nombre de couches dans le RNN (LSTM). Plus il y a de couches, plus le modèle est complexe et capable de comprendre des relations plus profondes entre les mots.\n",
    "- `dropout` : Fraction des neurones à désactiver lors de l'entraînement pour éviter le sur-apprentissage (*overfitting*).\n",
    "\n",
    "#### 2. Initialisation des Couches\n",
    "- `self.embedding = nn.Embedding(input_dim, emb_dim)` : Cette couche transforme chaque mot d'entrée en un vecteur de taille `emb_dim`. Par exemple, si vous avez une phrase `\"bonjour tout le monde\"`, chaque mot (`\"bonjour\"`, `\"tout\"`, `\"le\"`, `\"monde\"`) est transformé en un vecteur d'`emb_dim` dimensions.\n",
    "  \n",
    "- `self.rnn = nn.LSTM(emb_dim, hid_dim, n_layers, dropout=dropout)` : Le RNN est un **LSTM** qui reçoit une séquence de vecteurs d'`emb_dim` dimensions, puis produit des états cachés de dimension `hid_dim`. Ces états cachés sont les représentations de la phrase dans l'espace vectoriel.\n",
    "\n",
    "  - **LSTM (Long Short-Term Memory)** est une variante de RNN qui a une meilleure capacité à se souvenir d'informations sur de longues séquences, grâce à une mémoire interne (cell state). Cela permet à LSTM de bien gérer les dépendances à long terme dans les phrases.\n",
    "\n",
    "- `self.dropout = nn.Dropout(dropout)` : `Dropout` est utilisé pour éviter que le modèle ne devienne trop dépendant de certaines parties des données pendant l'entraînement. Cela empêche le sur-apprentissage en désactivant aléatoirement certains neurones.\n",
    "\n",
    "#### 3. La Méthode `forward`\n",
    "La méthode `forward` est la fonction qui est appelée lorsque vous passez des données à travers l'Encoder. Elle prend en entrée la séquence source (`src`) et renvoie les **états cachés** (`hidden`) et l'état de **cellule** (`cell`) de l'LSTM.\n",
    "\n",
    "\n",
    "- **`embedded = self.dropout(self.embedding(src))`** : Cette ligne fait deux choses :\n",
    "  1. **Embeddings** : Convertit chaque mot de la séquence source (`src`) en un vecteur d'`emb_dim` dimensions.\n",
    "  2. **Dropout** : Applique le `dropout` aux embeddings pour éviter le sur-apprentissage.\n",
    "\n",
    "  La forme de la variable `embedded` est `(src_len, batch_size, emb_dim)`, où :\n",
    "  - `src_len` est la longueur de la séquence d'entrée.\n",
    "  - `batch_size` est le nombre de phrases traitées simultanément.\n",
    "  - `emb_dim` est la dimension des embeddings.\n",
    "\n",
    "- **`outputs, (hidden, cell) = self.rnn(embedded)`** :\n",
    "  - `self.rnn(embedded)` passe la séquence d'embeddings dans le LSTM.\n",
    "  - `outputs` est une séquence contenant l'état caché de chaque pas temporel (chaque mot).\n",
    "  - `hidden` est l'état caché final de l'LSTM après avoir vu toute la séquence. Cet état est une sorte de résumé de la phrase d'entrée.\n",
    "  - `cell` est l'état de cellule final du LSTM, représentant la mémoire de l'LSTM après toute la séquence.\n",
    "\n",
    "Les valeurs **`hidden`** et **`cell`** sont les plus importantes pour l'Encoder. Elles contiennent la \"compréhension\" de toute la séquence d'entrée et sont transmises au **Decoder** pour générer la séquence cible.\n",
    "\n",
    "### Pourquoi `hidden` et `cell` sont-ils importants ?\n",
    "Le `hidden` et le `cell` sont les résumés de la séquence d'entrée, encapsulant les informations nécessaires pour comprendre la phrase complète. Ces états permettent de représenter non seulement les mots individuellement, mais aussi la structure de la phrase, les relations entre les mots, les informations temporelles, et bien d'autres aspects.\n",
    "\n",
    "### Exemple : Une Phrase en Français à l'Encoder\n",
    "Supposons que nous avons une phrase en français, comme `\"bonjour tout le monde\"` :\n",
    "\n",
    "1. **Embeddings** : Chaque mot de cette phrase est d'abord converti en un vecteur de taille `emb_dim` à l'aide de la couche `nn.Embedding`.\n",
    "  \n",
    "2. **RNN** : Les vecteurs d'`emb_dim` sont ensuite passés à l'LSTM. L'LSTM traite chaque mot séquentiellement, mettant à jour son `hidden` et son `cell` à chaque étape pour encapsuler toutes les informations jusqu'à ce mot.\n",
    "\n",
    "3. **Résultat** : À la fin de la phrase, le `hidden` et le `cell` contiennent les informations sur toute la phrase et sont transmis au Decoder pour générer une traduction correcte.\n",
    "\n",
    "### Conclusion\n",
    "L'**Encoder** est une partie cruciale d'un modèle de traduction *Seq2Seq*. Il lit et encode une phrase d'entrée (en français, par exemple) en une représentation numérique dense qui est ensuite utilisée par le **Decoder** pour générer la phrase cible (en anglais). L'LSTM (ou autre RNN) est capable de capturer les relations complexes entre les mots, permettant au modèle de gérer la structure et le contexte des phrases.\n",
    "\n",
    "En résumé, l'Encoder agit comme un **résumeur** de la séquence d'entrée, transformant une série de mots en une représentation vectorielle riche qui est ensuite utilisée pour la traduction."
   ]
  },
  {
   "cell_type": "code",
   "execution_count": 12,
   "metadata": {},
   "outputs": [],
   "source": [
    "# 3.1 Définir l'Encoder\n",
    "class Encoder(nn.Module):\n",
    "    def __init__(self, input_dim, emb_dim, hid_dim, n_layers, dropout):\n",
    "        super(Encoder, self).__init__()\n",
    "        self.embedding = nn.Embedding(input_dim, emb_dim)\n",
    "        self.rnn = nn.LSTM(emb_dim, hid_dim, n_layers, dropout=dropout)\n",
    "        self.dropout = nn.Dropout(dropout)\n",
    "\n",
    "    def forward(self, src):\n",
    "        embedded = self.dropout(self.embedding(src))  # (src_len, batch_size, emb_dim)\n",
    "        outputs, (hidden, cell) = self.rnn(embedded)\n",
    "        return hidden, cell\n"
   ]
  },
  {
   "cell_type": "markdown",
   "metadata": {},
   "source": [
    "#### Phrase d'Entrée\n",
    "Supposons que nous avons la phrase française : `\"bonjour tout le monde\"`.\n",
    "- Cette phrase sera tokenisée, transformée en vecteurs d'indices avec l'aide du vocabulaire, et enfin convertie en embeddings avant de passer dans l'Encoder.\n",
    "\n",
    "#### Préparation de l'Entrée pour l'Encoder\n",
    "Nous allons convertir cette phrase en un tenseur que l'Encoder pourra traiter.\n",
    "\n",
    "1. **Tokenisation et Conversion en Indices**\n",
    "   - Le vocabulaire source (`vocab_src`) a été créé précédemment et contient des mots comme `\"bonjour\"`, `\"tout\"`, `\"le\"`, `\"monde\"`.\n",
    "   - Convertissons la phrase `\"bonjour tout le monde\"` en indices en utilisant le vocabulaire.\n"
   ]
  },
  {
   "cell_type": "markdown",
   "metadata": {},
   "source": [
    "le vocabulaire assigne les indices suivants aux mots :\n",
    "   - `<bos>` : 2\n",
    "   - `\"bonjour\"` : 11\n",
    "   - `\"tout\"` : 29\n",
    "   - `\"le\"` : 21\n",
    "   - `\"monde\"` : 24\n",
    "   - `<eos>` : 3\n"
   ]
  },
  {
   "cell_type": "code",
   "execution_count": 13,
   "metadata": {},
   "outputs": [
    {
     "name": "stdout",
     "output_type": "stream",
     "text": [
      "Tenseur Source: tensor([ 2, 13, 35, 25, 28,  3])\n"
     ]
    }
   ],
   "source": [
    "src_sentence = \"bonjour tout le monde\"\n",
    "src_tensor = sentence_to_tensor(src_sentence, vocab_src)  # Convertir en indices\n",
    "print(\"Tenseur Source:\", src_tensor)\n"
   ]
  },
  {
   "cell_type": "markdown",
   "metadata": {},
   "source": [
    "Le tenseur représente la phrase `\"bonjour tout le monde\"` avec un `<bos>` au début et un `<eos>` à la fin pour indiquer respectivement le début et la fin de la phrase.\n"
   ]
  },
  {
   "cell_type": "code",
   "execution_count": 14,
   "metadata": {},
   "outputs": [],
   "source": [
    "import torch\n",
    "import torch.nn as nn\n",
    "import matplotlib.pyplot as plt\n",
    "\n",
    "# Paramètres du modèle\n",
    "input_dim = len(vocab_src)  # Taille du vocabulaire source\n",
    "emb_dim = 10                # Dimension des embeddings\n",
    "hid_dim = 16                # Dimension des états cachés\n",
    "n_layers = 2                # Nombre de couches de l'LSTM\n",
    "dropout = 0.5               # Dropout\n",
    "\n",
    "# Initialiser l'Encoder\n",
    "encoder = Encoder(input_dim, emb_dim, hid_dim, n_layers, dropout)\n",
    "\n",
    "# Convertir la séquence d'entrée en un format accepté par l'Encoder\n",
    "src_sentence = \"bonjour tout le monde\"\n",
    "src_tensor = sentence_to_tensor(src_sentence, vocab_src).unsqueeze(1)  # (src_len, batch_size)\n",
    "\n",
    "# Passer la séquence à travers l'Encoder\n",
    "hidden, cell = encoder(src_tensor)\n"
   ]
  },
  {
   "cell_type": "code",
   "execution_count": 15,
   "metadata": {},
   "outputs": [],
   "source": [
    "# Extraire le dernier hidden state de la dernière couche\n",
    "hidden_last_layer = hidden[-1]  # (batch_size, hid_dim)\n",
    "\n",
    "# Si vous avez une batch_size de 1, supprimez cette dimension supplémentaire\n",
    "hidden_last_layer = hidden_last_layer.squeeze(0)  # (hid_dim)\n",
    "\n",
    "# Convertir le hidden state en numpy\n",
    "hidden_last_layer_np = hidden_last_layer.detach().numpy()  # Détachez le tenseur pour éviter les problèmes de gradient\n"
   ]
  },
  {
   "cell_type": "code",
   "execution_count": 16,
   "metadata": {},
   "outputs": [
    {
     "data": {
      "image/png": "[encoded data removed]",
      "text/plain": [
       "<Figure size 1000x400 with 1 Axes>"
      ]
     },
     "metadata": {},
     "output_type": "display_data"
    }
   ],
   "source": [
    "# Tracer le hidden state\n",
    "plt.figure(figsize=(10, 4))\n",
    "plt.bar(range(len(hidden_last_layer_np)), hidden_last_layer_np)\n",
    "plt.xlabel('Index of Hidden State Dimension')\n",
    "plt.ylabel('Value')\n",
    "plt.title('Representation of the Hidden State from Encoder')\n",
    "plt.show()\n"
   ]
  },
  {
   "cell_type": "code",
   "execution_count": 17,
   "metadata": {},
   "outputs": [],
   "source": [
    "from sklearn.decomposition import PCA\n",
    "import numpy as np\n",
    "\n",
    "# Initialiser l'Encoder (comme défini précédemment)\n",
    "input_dim = len(vocab_src)\n",
    "emb_dim = 10\n",
    "hid_dim = 16\n",
    "n_layers = 2\n",
    "dropout = 0.5\n",
    "\n",
    "encoder = Encoder(input_dim, emb_dim, hid_dim, n_layers, dropout)\n",
    "\n",
    "# Liste pour stocker les hidden states de chaque phrase\n",
    "hidden_states = []\n",
    "\n",
    "# Passer chaque phrase de `train_data` à travers l'Encoder\n",
    "for src_sentence, _ in train_data:\n",
    "    # Convertir la phrase en tensor\n",
    "    src_tensor = sentence_to_tensor(src_sentence, vocab_src).unsqueeze(1)  # (src_len, batch_size)\n",
    "    \n",
    "    # Obtenir les hidden states et cell states de l'Encoder\n",
    "    hidden, cell = encoder(src_tensor)\n",
    "    \n",
    "    # Extraire la dernière couche du hidden state\n",
    "    hidden_last_layer = hidden[-1]  # (batch_size, hid_dim)\n",
    "    \n",
    "    # Supposer que la batch_size est 1, on la squeeze pour obtenir une dimension (hid_dim,)\n",
    "    hidden_last_layer_np = hidden_last_layer.squeeze(0).detach().numpy()\n",
    "    \n",
    "    # Ajouter la représentation à la liste des hidden states\n",
    "    hidden_states.append(hidden_last_layer_np)\n",
    "\n",
    "# Convertir la liste des hidden states en un tableau numpy\n",
    "hidden_states_np = np.array(hidden_states)  # Shape (n_sentences, hid_dim)\n"
   ]
  },
  {
   "cell_type": "code",
   "execution_count": 18,
   "metadata": {},
   "outputs": [],
   "source": [
    "# Appliquer PCA pour réduire les hidden states à 2 dimensions\n",
    "pca = PCA(n_components=2)\n",
    "hidden_states_2d = pca.fit_transform(hidden_states_np)  # Shape (n_sentences, 2)\n"
   ]
  },
  {
   "cell_type": "code",
   "execution_count": 19,
   "metadata": {},
   "outputs": [
    {
     "data": {
      "image/png": "[encoded data removed]",
      "text/plain": [
       "<Figure size 1000x600 with 1 Axes>"
      ]
     },
     "metadata": {},
     "output_type": "display_data"
    }
   ],
   "source": [
    "import matplotlib.pyplot as plt\n",
    "\n",
    "# Créer un graphique pour visualiser les représentations PCA des hidden states\n",
    "plt.figure(figsize=(10, 6))\n",
    "\n",
    "# Tracer chaque point correspondant à une phrase\n",
    "for i, (x, y) in enumerate(hidden_states_2d):\n",
    "    plt.scatter(x, y, label=train_data[i][0])  # Utiliser la phrase source comme label\n",
    "\n",
    "# Ajouter des annotations\n",
    "for i, (x, y) in enumerate(hidden_states_2d):\n",
    "    plt.annotate(train_data[i][0], (x, y), textcoords=\"offset points\", xytext=(5, 5), ha='center', fontsize=8)\n",
    "\n",
    "# Configuration du graphique\n",
    "plt.xlabel('PCA Dimension 1')\n",
    "plt.ylabel('PCA Dimension 2')\n",
    "plt.title('PCA of Encoder Hidden States for Training Sentences')\n",
    "plt.grid(True)\n",
    "plt.show()\n"
   ]
  },
  {
   "cell_type": "markdown",
   "metadata": {},
   "source": [
    "2. **Passer le Tenseur dans l'Encoder**\n",
    "   Passons maintenant ce tenseur à travers l'Encoder pour voir ce qu'il produit."
   ]
  },
  {
   "cell_type": "code",
   "execution_count": 20,
   "metadata": {},
   "outputs": [],
   "source": [
    "# 3.2 Définir le Decoder\n",
    "class Decoder(nn.Module):\n",
    "    def __init__(self, output_dim, emb_dim, hid_dim, n_layers, dropout):\n",
    "        super(Decoder, self).__init__()\n",
    "        self.embedding = nn.Embedding(output_dim, emb_dim)\n",
    "        self.rnn = nn.LSTM(emb_dim, hid_dim, n_layers, dropout=dropout)\n",
    "        self.fc_out = nn.Linear(hid_dim, output_dim)\n",
    "        self.dropout = nn.Dropout(dropout)\n",
    "\n",
    "    def forward(self, input, hidden, cell):\n",
    "        input = input.unsqueeze(0)  # (1, batch_size)\n",
    "        embedded = self.dropout(self.embedding(input))  # (1, batch_size, emb_dim)\n",
    "        output, (hidden, cell) = self.rnn(embedded, (hidden, cell))  # (1, batch_size, hid_dim)\n",
    "        prediction = self.fc_out(output.squeeze(0))  # (batch_size, output_dim)\n",
    "        return prediction, hidden, cell\n"
   ]
  },
  {
   "cell_type": "markdown",
   "metadata": {},
   "source": [
    "### Étape 4 : Définir le Modèle Seq2Seq\n",
    "Le modèle Seq2Seq combine l'Encoder et le Decoder."
   ]
  },
  {
   "cell_type": "code",
   "execution_count": 21,
   "metadata": {},
   "outputs": [],
   "source": [
    "class Seq2Seq(nn.Module):\n",
    "    def __init__(self, encoder, decoder, device):\n",
    "        super(Seq2Seq, self).__init__()\n",
    "        self.encoder = encoder\n",
    "        self.decoder = decoder\n",
    "        self.device = device\n",
    "\n",
    "    def forward(self, src, trg, teacher_forcing_ratio=0.5):\n",
    "        trg_len, batch_size = trg.shape\n",
    "        trg_vocab_size = self.decoder.fc_out.out_features\n",
    "\n",
    "        outputs = torch.zeros(trg_len, batch_size, trg_vocab_size).to(self.device)\n",
    "\n",
    "        hidden, cell = self.encoder(src)\n",
    "\n",
    "        input = trg[0, :]  # Début de la phrase cible avec <bos>\n",
    "\n",
    "        for t in range(1, trg_len):\n",
    "            output, hidden, cell = self.decoder(input, hidden, cell)\n",
    "            outputs[t] = output\n",
    "            teacher_force = random.random() < teacher_forcing_ratio\n",
    "            top1 = output.argmax(1)\n",
    "            input = trg[t] if teacher_force else top1\n",
    "\n",
    "        return outputs\n"
   ]
  },
  {
   "cell_type": "markdown",
   "metadata": {},
   "source": [
    "### Étape 5 : Entraîner le Modèle\n",
    "5.1 Paramètres et Initialisation du Modèle"
   ]
  },
  {
   "cell_type": "code",
   "execution_count": 22,
   "metadata": {},
   "outputs": [],
   "source": [
    "INPUT_DIM = len(vocab_src)\n",
    "OUTPUT_DIM = len(vocab_tgt)\n",
    "ENC_EMB_DIM = 256\n",
    "DEC_EMB_DIM = 256\n",
    "HID_DIM = 512\n",
    "N_LAYERS = 2\n",
    "ENC_DROPOUT = 0.5\n",
    "DEC_DROPOUT = 0.5\n",
    "\n",
    "device = torch.device('cuda' if torch.cuda.is_available() else 'cpu')\n",
    "\n",
    "# Initialiser l'encoder, le decoder et le modèle Seq2Seq\n",
    "encoder = Encoder(INPUT_DIM, ENC_EMB_DIM, HID_DIM, N_LAYERS, ENC_DROPOUT)\n",
    "decoder = Decoder(OUTPUT_DIM, DEC_EMB_DIM, HID_DIM, N_LAYERS, DEC_DROPOUT)\n",
    "model = Seq2Seq(encoder, decoder, device).to(device)\n",
    "\n",
    "# Optimiseur et fonction de perte\n",
    "optimizer = optim.Adam(model.parameters())\n",
    "criterion = nn.CrossEntropyLoss(ignore_index=vocab_tgt[\"<pad>\"])\n"
   ]
  },
  {
   "cell_type": "markdown",
   "metadata": {},
   "source": [
    "Entraînement"
   ]
  },
  {
   "cell_type": "code",
   "execution_count": 23,
   "metadata": {},
   "outputs": [
    {
     "name": "stdout",
     "output_type": "stream",
     "text": [
      "Epoch 1/10, Loss: 3.4715\n",
      "Epoch 2/10, Loss: 3.0108\n",
      "Epoch 3/10, Loss: 2.8009\n",
      "Epoch 4/10, Loss: 2.2981\n",
      "Epoch 5/10, Loss: 1.6982\n",
      "Epoch 6/10, Loss: 1.4346\n",
      "Epoch 7/10, Loss: 1.1058\n",
      "Epoch 8/10, Loss: 0.8993\n",
      "Epoch 9/10, Loss: 0.7050\n",
      "Epoch 10/10, Loss: 0.5654\n"
     ]
    }
   ],
   "source": [
    "N_EPOCHS = 10\n",
    "CLIP = 1\n",
    "\n",
    "for epoch in range(N_EPOCHS):\n",
    "    model.train()\n",
    "    epoch_loss = 0\n",
    "\n",
    "    for (src_sentence, tgt_sentence) in train_data:\n",
    "        # Préparer les données en tenseurs\n",
    "        src_tensor = sentence_to_tensor(src_sentence, vocab_src).to(device).unsqueeze(1)\n",
    "        tgt_tensor = sentence_to_tensor(tgt_sentence, vocab_tgt).to(device).unsqueeze(1)\n",
    "\n",
    "        optimizer.zero_grad()\n",
    "\n",
    "        output = model(src_tensor, tgt_tensor)\n",
    "        \n",
    "        output_dim = output.shape[-1]\n",
    "        output = output[1:].view(-1, output_dim)\n",
    "        tgt = tgt_tensor[1:].view(-1)\n",
    "\n",
    "        loss = criterion(output, tgt)\n",
    "        loss.backward()\n",
    "\n",
    "        torch.nn.utils.clip_grad_norm_(model.parameters(), CLIP)\n",
    "        optimizer.step()\n",
    "\n",
    "        epoch_loss += loss.item()\n",
    "\n",
    "    print(f'Epoch {epoch+1}/{N_EPOCHS}, Loss: {epoch_loss/len(train_data):.4f}')\n"
   ]
  },
  {
   "cell_type": "markdown",
   "metadata": {},
   "source": [
    "### Étape 6 : Traduire des Phrases\n",
    "6.1 Fonction de Traduction\n",
    "\n"
   ]
  },
  {
   "cell_type": "code",
   "execution_count": 24,
   "metadata": {},
   "outputs": [],
   "source": [
    "def translate_sentence(model, sentence, vocab_src, vocab_tgt, device, max_len=50):\n",
    "    model.eval()\n",
    "    src_tensor = sentence_to_tensor(sentence, vocab_src).to(device).unsqueeze(1)\n",
    "\n",
    "    with torch.no_grad():\n",
    "        hidden, cell = model.encoder(src_tensor)\n",
    "\n",
    "    trg_indices = [vocab_tgt[\"<bos>\"]]\n",
    "    trg_tensor = torch.tensor([trg_indices[-1]], dtype=torch.long).to(device)\n",
    "\n",
    "    for _ in range(max_len):\n",
    "        with torch.no_grad():\n",
    "            output, hidden, cell = model.decoder(trg_tensor, hidden, cell)\n",
    "        \n",
    "        pred_token = output.argmax(1).item()\n",
    "        trg_indices.append(pred_token)\n",
    "\n",
    "        trg_tensor = torch.tensor([pred_token], dtype=torch.long).to(device)\n",
    "\n",
    "        if pred_token == vocab_tgt[\"<eos>\"]:\n",
    "            break\n",
    "\n",
    "    return tensor_to_sentence(trg_indices[1:], vocab_tgt)\n",
    "\n",
    "def tensor_to_sentence(tensor, vocab):\n",
    "    inv_vocab = {idx: word for word, idx in vocab.items()}\n",
    "    words = [inv_vocab.get(idx, \"<unk>\") for idx in tensor]\n",
    "    if \"<eos>\" in words:\n",
    "        words = words[:words.index(\"<eos>\")]\n",
    "    return \" \".join(words)\n"
   ]
  },
  {
   "cell_type": "markdown",
   "metadata": {},
   "source": [
    "6.2 Tester la Traduction\n"
   ]
  },
  {
   "cell_type": "code",
   "execution_count": 25,
   "metadata": {},
   "outputs": [
    {
     "name": "stdout",
     "output_type": "stream",
     "text": [
      "Source: \"bonjour tout le monde\"\n",
      "Translated: \"hello world\"\n",
      "------------------------------\n",
      "Source: \"j'aime programmer\"\n",
      "Translated: \"i love programming\"\n",
      "------------------------------\n",
      "Source: \"comment vas-tu\"\n",
      "Translated: \"how you\"\n",
      "------------------------------\n",
      "Source: \"il fait beau aujourd'hui\"\n",
      "Translated: \"it's nice a\"\n",
      "------------------------------\n",
      "Source: \"je suis fatigué\"\n",
      "Translated: \"i am fine\"\n",
      "------------------------------\n",
      "Source: \"bonjour, il fait beau aujourd'hui\"\n",
      "Translated: \"it's nice a\"\n",
      "------------------------------\n"
     ]
    }
   ],
   "source": [
    "test_sentences = [\n",
    "    \"bonjour tout le monde\",\n",
    "    \"j'aime programmer\",\n",
    "    \"comment vas-tu\",\n",
    "    \"il fait beau aujourd'hui\",\n",
    "    \"je suis fatigué\",\n",
    "    \"bonjour, il fait beau aujourd'hui\"\n",
    "]\n",
    "\n",
    "for sentence in test_sentences:\n",
    "    translation = translate_sentence(model, sentence, vocab_src, vocab_tgt, device)\n",
    "    print(f'Source: \"{sentence}\"')\n",
    "    print(f'Translated: \"{translation}\"')\n",
    "    print('-' * 30)\n"
   ]
  }
 ],
 "metadata": {
  "kernelspec": {
   "display_name": ".venv",
   "language": "python",
   "name": "python3"
  },
  "language_info": {
   "codemirror_mode": {
    "name": "ipython",
    "version": 3
   },
   "file_extension": ".py",
   "mimetype": "text/x-python",
   "name": "python",
   "nbconvert_exporter": "python",
   "pygments_lexer": "ipython3",
   "version": "3.11.0"
  }
 },
 "nbformat": 4,
 "nbformat_minor": 2
}
