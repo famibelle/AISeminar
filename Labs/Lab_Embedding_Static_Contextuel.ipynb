{
 "cells": [
  {
   "cell_type": "markdown",
   "metadata": {},
   "source": [
    "### Embedding Contextuel: BERT"
   ]
  },
  {
   "cell_type": "code",
   "execution_count": 8,
   "metadata": {},
   "outputs": [],
   "source": [
    "from transformers import AutoTokenizer, AutoModel\n",
    "import torch\n",
    "\n",
    "# Charger le tokenizer et le modèle pré-entraîné BERT\n",
    "tokenizer = AutoTokenizer.from_pretrained(\"bert-base-uncased\")\n",
    "model = AutoModel.from_pretrained(\"bert-base-uncased\")"
   ]
  },
  {
   "cell_type": "code",
   "execution_count": 9,
   "metadata": {},
   "outputs": [],
   "source": [
    "# Deux phrases avec des contextes différents\n",
    "sentence_1 = \"The bank is near the river.\"\n",
    "sentence_2 = \"I deposited money at the bank yesterday.\"\n",
    "\n",
    "# Tokenisation et encodage\n",
    "inputs_1 = tokenizer(sentence_1, return_tensors=\"pt\")\n",
    "inputs_2 = tokenizer(sentence_2, return_tensors=\"pt\")\n",
    "\n",
    "# Calcul des embeddings\n",
    "with torch.no_grad():\n",
    "    outputs_1 = model(**inputs_1)\n",
    "    outputs_2 = model(**inputs_2)\n",
    "\n",
    "# Extraire les embeddings pour le mot \"bank\"\n",
    "tokens_1 = tokenizer.convert_ids_to_tokens(inputs_1[\"input_ids\"][0])\n",
    "tokens_2 = tokenizer.convert_ids_to_tokens(inputs_2[\"input_ids\"][0])\n",
    "\n",
    "index_bank_1 = tokens_1.index(\"bank\")\n",
    "index_bank_2 = tokens_2.index(\"bank\")\n",
    "\n",
    "embedding_bank_1 = outputs_1.last_hidden_state[0, index_bank_1, :]\n",
    "embedding_bank_2 = outputs_2.last_hidden_state[0, index_bank_2, :]\n"
   ]
  },
  {
   "cell_type": "code",
   "execution_count": 10,
   "metadata": {},
   "outputs": [
    {
     "data": {
      "text/plain": [
       "torch.Size([768])"
      ]
     },
     "execution_count": 10,
     "metadata": {},
     "output_type": "execute_result"
    }
   ],
   "source": [
    "embedding_bank_1.shape"
   ]
  },
  {
   "cell_type": "code",
   "execution_count": 11,
   "metadata": {},
   "outputs": [
    {
     "data": {
      "text/plain": [
       "torch.Size([768])"
      ]
     },
     "execution_count": 11,
     "metadata": {},
     "output_type": "execute_result"
    }
   ],
   "source": [
    "embedding_bank_2.shape"
   ]
  },
  {
   "cell_type": "code",
   "execution_count": 12,
   "metadata": {},
   "outputs": [
    {
     "name": "stdout",
     "output_type": "stream",
     "text": [
      "Similarité entre 'bank' dans deux contextes : 0.4829\n"
     ]
    }
   ],
   "source": [
    "# Calculer la similarité cosinus entre les deux vecteurs\n",
    "from torch.nn.functional import cosine_similarity\n",
    "similarity = cosine_similarity(embedding_bank_1.unsqueeze(0), embedding_bank_2.unsqueeze(0))\n",
    "\n",
    "print(f\"Similarité entre 'bank' dans deux contextes : {similarity.item():.4f}\")\n"
   ]
  },
  {
   "cell_type": "markdown",
   "metadata": {},
   "source": [
    "### Embedding Statique: Word2Vec"
   ]
  },
  {
   "cell_type": "code",
   "execution_count": 13,
   "metadata": {},
   "outputs": [
    {
     "name": "stdout",
     "output_type": "stream",
     "text": [
      "Vocabulaire : dict_keys(['the', 'bank', 'river', 'he', 'to', 'deposit', 'sat', 'by', 'went', 'near', 'flows', 'is', 'beautiful', 'she', 'opened', 'an', 'account', 'at', 'money'])\n"
     ]
    }
   ],
   "source": [
    "from gensim.models import Word2Vec\n",
    "\n",
    "# Corpus avec plusieurs contextes pour \"bank\"\n",
    "corpus = [\n",
    "    [\"he\", \"sat\", \"by\", \"the\", \"river\", \"bank\"],\n",
    "    [\"he\", \"went\", \"to\", \"the\", \"bank\", \"to\", \"deposit\", \"money\"],\n",
    "    [\"the\", \"river\", \"bank\", \"is\", \"beautiful\"],\n",
    "    [\"she\", \"opened\", \"an\", \"account\", \"at\", \"the\", \"bank\"],\n",
    "    [\"the\", \"river\", \"flows\", \"near\", \"the\", \"bank\"],\n",
    "]\n",
    "\n",
    "# Entraîner un modèle Word2Vec\n",
    "model = Word2Vec(sentences=corpus, vector_size=50, window=3, min_count=1, sg=0)\n",
    "\n",
    "# Vérifier les mots dans le vocabulaire\n",
    "print(\"Vocabulaire :\", model.wv.key_to_index.keys())\n"
   ]
  },
  {
   "cell_type": "code",
   "execution_count": 14,
   "metadata": {},
   "outputs": [
    {
     "name": "stdout",
     "output_type": "stream",
     "text": [
      "Embedding pour 'bank' : [-0.01631583  0.0089916  -0.00827415  0.00164907  0.01699724 -0.00892435\n",
      "  0.009035   -0.01357392 -0.00709698  0.01879702 -0.00315531  0.00064274\n",
      " -0.00828126 -0.01536538 -0.00301602  0.00493959 -0.00177605  0.01106732\n",
      " -0.00548595  0.00452013  0.01091159  0.01669191 -0.00290748 -0.01841629\n",
      "  0.0087411   0.00114357  0.01488382 -0.00162657 -0.00527683 -0.01750602\n",
      " -0.00171311  0.00565313  0.01080286  0.01410531 -0.01140624  0.00371764\n",
      "  0.01217773 -0.0095961  -0.00621452  0.01359526  0.00326295  0.00037983\n",
      "  0.00694727  0.00043555  0.01923765  0.01012121 -0.01783478 -0.01408312\n",
      "  0.00180291  0.01278507]\n",
      "Dimension de l'embedding : 50\n"
     ]
    }
   ],
   "source": [
    "# Extraire l'embedding pour \"bank\"\n",
    "embedding_bank = model.wv[\"bank\"]\n",
    "\n",
    "print(\"Embedding pour 'bank' :\", embedding_bank)\n",
    "print(\"Dimension de l'embedding :\", len(embedding_bank))\n"
   ]
  }
 ],
 "metadata": {
  "kernelspec": {
   "display_name": ".venv",
   "language": "python",
   "name": "python3"
  },
  "language_info": {
   "codemirror_mode": {
    "name": "ipython",
    "version": 3
   },
   "file_extension": ".py",
   "mimetype": "text/x-python",
   "name": "python",
   "nbconvert_exporter": "python",
   "pygments_lexer": "ipython3",
   "version": "3.11.0rc1"
  }
 },
 "nbformat": 4,
 "nbformat_minor": 2
}
