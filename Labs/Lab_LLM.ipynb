{
 "cells": [
  {
   "cell_type": "code",
   "execution_count": 1,
   "metadata": {},
   "outputs": [],
   "source": [
    "# %pip install openai\n",
    "# %pip install python-dotenv\n",
    "# %pip install python-dotenv"
   ]
  },
  {
   "cell_type": "code",
   "execution_count": 2,
   "metadata": {},
   "outputs": [],
   "source": [
    "import openai\n",
    "import os\n",
    "from dotenv import load_dotenv\n",
    "\n",
    "load_dotenv()\n",
    "# Définir la clé API\n",
    "openai.api_key = os.environ.get(\"OPENAI_API_KEY\")"
   ]
  },
  {
   "cell_type": "code",
   "execution_count": 3,
   "metadata": {},
   "outputs": [],
   "source": [
    "from openai import OpenAI\n",
    "\n",
    "# Initialiser le client OpenAI\n",
    "client = OpenAI()\n",
    "\n",
    "# Définir un prompt de départ\n",
    "prompt = \"Explain the concept of Large Language Models and their impact on technology.\"\n",
    "\n",
    "# Utiliser l'API pour générer une réponse\n",
    "\n",
    "# Fonction utilitaire pour les requêtes OpenAI\n",
    "\n",
    "response = client.chat.completions.create(\n",
    "    model=\"gpt-4\",\n",
    "    messages=[{\"role\": \"user\", \"content\": prompt}],\n",
    "    temperature=0.9,\n",
    "    max_tokens=512\n",
    ")"
   ]
  },
  {
   "cell_type": "code",
   "execution_count": 4,
   "metadata": {},
   "outputs": [
    {
     "name": "stdout",
     "output_type": "stream",
     "text": [
      "Generated Response:\n",
      "Large Language Models are machine learning models that are trained on a broad range of internet text and are capable of generating human-like text based on the input they receive. These models, such as OpenAI's GPT-3, are developed with a deep understanding of grammar, facts about the world, and some reasoning capabilities. However, they can only provide information they have been trained on and are not capable of understanding or experiencing the world.\n",
      "\n",
      "The impact of these models on technology is significant. They have the potential to revolutionize areas such as content creation, programming help, learning and education, and even customer support. As the models evolve, they can be used to perform tasks that currently require human intelligence.\n",
      "\n",
      "However, these large language models also pose certain risks and challenges. They could be used to spread misinformation, enable plagiarism, or generate harmful or biased content. They might also make mistakes due to lack of understanding of the real world. Therefore, it's crucial to have robust guidelines and checks in place to use and regulate these models effectively.\n",
      "\n",
      "Overall, large language models can greatly enhance various aspects of technology, but they should be used responsibly and ethically. Their development and deployment should be balanced with careful consideration of potential risks and societal impacts.\n"
     ]
    }
   ],
   "source": [
    "# Afficher la réponse générée\n",
    "print(\"Generated Response:\")\n",
    "print(response.choices[0].message.content)\n"
   ]
  }
 ],
 "metadata": {
  "kernelspec": {
   "display_name": ".venv",
   "language": "python",
   "name": "python3"
  },
  "language_info": {
   "codemirror_mode": {
    "name": "ipython",
    "version": 3
   },
   "file_extension": ".py",
   "mimetype": "text/x-python",
   "name": "python",
   "nbconvert_exporter": "python",
   "pygments_lexer": "ipython3",
   "version": "3.11.0rc1"
  }
 },
 "nbformat": 4,
 "nbformat_minor": 2
}
